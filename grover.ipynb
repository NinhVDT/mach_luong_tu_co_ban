{
 "cells": [
  {
   "cell_type": "code",
   "execution_count": 14,
   "metadata": {},
   "outputs": [],
   "source": [
    "# p43 (p64 PDF) \n",
    "\n",
    "%matplotlib inline\n",
    "# Importing standard Qiskit libraries and configuring account\n",
    "from qiskit import QuantumCircuit, execute, Aer, IBMQ\n",
    "from qiskit.compiler import transpile, assemble\n",
    "from qiskit.tools.jupyter import *\n",
    "from qiskit.visualization import *\n",
    "# Loading your IBM Q account(s)\n",
    "# provider = IBMQ.load_account()"
   ]
  },
  {
   "cell_type": "code",
   "execution_count": 28,
   "metadata": {},
   "outputs": [
    {
     "data": {
      "text/html": [
       "<pre style=\"word-wrap: normal;white-space: pre;background: #fff0;line-height: 1.1;font-family: &quot;Courier New&quot;,Courier,monospace\">     ┌───┐ ░ \n",
       "q_0: ┤ H ├─░─\n",
       "     ├───┤ ░ \n",
       "q_1: ┤ H ├─░─\n",
       "     ├───┤ ░ \n",
       "q_2: ┤ H ├─░─\n",
       "     └───┘ ░ </pre>"
      ],
      "text/plain": [
       "     ┌───┐ ░ \n",
       "q_0: ┤ H ├─░─\n",
       "     ├───┤ ░ \n",
       "q_1: ┤ H ├─░─\n",
       "     ├───┤ ░ \n",
       "q_2: ┤ H ├─░─\n",
       "     └───┘ ░ "
      ]
     },
     "execution_count": 28,
     "metadata": {},
     "output_type": "execute_result"
    }
   ],
   "source": [
    "# p433 (p454 PDF)\n",
    "\n",
    "# Set the state we wish to search \n",
    "N = '011'\n",
    "num_qubits = len(N)\n",
    "\n",
    "# Create the quantum circuit \n",
    "qc = QuantumCircuit(num_qubits)\n",
    "\n",
    "# Set all qubits in superposition\n",
    "qc.h(range(num_qubits))\n",
    "qc.barrier()\n",
    "\n",
    "#Draw the circuit\n",
    "qc.draw()"
   ]
  },
  {
   "cell_type": "code",
   "execution_count": 29,
   "metadata": {},
   "outputs": [],
   "source": [
    "# Create custom cx gate with multiple controls\n",
    "from qiskit.circuit.library.standard_gates import XGate\n",
    "\n",
    "multi_cx_gate = XGate().control(num_qubits-1)"
   ]
  },
  {
   "cell_type": "code",
   "execution_count": 30,
   "metadata": {},
   "outputs": [
    {
     "data": {
      "text/html": [
       "<pre style=\"word-wrap: normal;white-space: pre;background: #fff0;line-height: 1.1;font-family: &quot;Courier New&quot;,Courier,monospace\">     ┌───┐ ░       ░ \n",
       "q_0: ┤ H ├─░───────░─\n",
       "     ├───┤ ░       ░ \n",
       "q_1: ┤ H ├─░───────░─\n",
       "     ├───┤ ░ ┌───┐ ░ \n",
       "q_2: ┤ H ├─░─┤ X ├─░─\n",
       "     └───┘ ░ └───┘ ░ </pre>"
      ],
      "text/plain": [
       "     ┌───┐ ░       ░ \n",
       "q_0: ┤ H ├─░───────░─\n",
       "     ├───┤ ░       ░ \n",
       "q_1: ┤ H ├─░───────░─\n",
       "     ├───┤ ░ ┌───┐ ░ \n",
       "q_2: ┤ H ├─░─┤ X ├─░─\n",
       "     └───┘ ░ └───┘ ░ "
      ]
     },
     "execution_count": 30,
     "metadata": {},
     "output_type": "execute_result"
    }
   ],
   "source": [
    "# p434 (p455 PDF)\n",
    "\n",
    "# Reverse the state so it’s in proper qubit ordering\n",
    "N = N[::-1]\n",
    "\n",
    "# Encode N into our circuit\n",
    "for idx in range(num_qubits):\n",
    "    if N[idx] == '0':\n",
    "        qc.x(idx)\n",
    "qc.barrier()\n",
    "\n",
    "# Draw the circuit\n",
    "qc.draw()"
   ]
  },
  {
   "cell_type": "code",
   "execution_count": 31,
   "metadata": {},
   "outputs": [
    {
     "data": {
      "text/html": [
       "<pre style=\"word-wrap: normal;white-space: pre;background: #fff0;line-height: 1.1;font-family: &quot;Courier New&quot;,Courier,monospace\">     ┌───┐ ░       ░                 ░ \n",
       "q_0: ┤ H ├─░───────░────────■────────░─\n",
       "     ├───┤ ░       ░        │        ░ \n",
       "q_1: ┤ H ├─░───────░────────■────────░─\n",
       "     ├───┤ ░ ┌───┐ ░ ┌───┐┌─┴─┐┌───┐ ░ \n",
       "q_2: ┤ H ├─░─┤ X ├─░─┤ H ├┤ X ├┤ H ├─░─\n",
       "     └───┘ ░ └───┘ ░ └───┘└───┘└───┘ ░ </pre>"
      ],
      "text/plain": [
       "     ┌───┐ ░       ░                 ░ \n",
       "q_0: ┤ H ├─░───────░────────■────────░─\n",
       "     ├───┤ ░       ░        │        ░ \n",
       "q_1: ┤ H ├─░───────░────────■────────░─\n",
       "     ├───┤ ░ ┌───┐ ░ ┌───┐┌─┴─┐┌───┐ ░ \n",
       "q_2: ┤ H ├─░─┤ X ├─░─┤ H ├┤ X ├┤ H ├─░─\n",
       "     └───┘ ░ └───┘ ░ └───┘└───┘└───┘ ░ "
      ]
     },
     "execution_count": 31,
     "metadata": {},
     "output_type": "execute_result"
    }
   ],
   "source": [
    "# p434 (p455 PDF)\n",
    "\n",
    "# Create the Grover oracle for our 3-qubit quantum circuit\n",
    "qc.h(num_qubits-1)\n",
    "# qc.ccx(0, 1, 2)\n",
    "qc.append(multi_cx_gate, range(num_qubits))\n",
    "\n",
    "qc.h(num_qubits-1)\n",
    "qc.barrier()\n",
    "\n",
    "# Draw the circuit\n",
    "qc.draw()"
   ]
  },
  {
   "cell_type": "code",
   "execution_count": 32,
   "metadata": {},
   "outputs": [
    {
     "data": {
      "text/html": [
       "<pre style=\"word-wrap: normal;white-space: pre;background: #fff0;line-height: 1.1;font-family: &quot;Courier New&quot;,Courier,monospace\">     ┌───┐ ░       ░                 ░ \n",
       "q_0: ┤ H ├─░───────░────────■────────░─\n",
       "     ├───┤ ░       ░        │        ░ \n",
       "q_1: ┤ H ├─░───────░────────■────────░─\n",
       "     ├───┤ ░ ┌───┐ ░ ┌───┐┌─┴─┐┌───┐ ░ \n",
       "q_2: ┤ H ├─░─┤ X ├─░─┤ H ├┤ X ├┤ H ├─░─\n",
       "     └───┘ ░ └───┘ ░ └───┘└───┘└───┘ ░ </pre>"
      ],
      "text/plain": [
       "     ┌───┐ ░       ░                 ░ \n",
       "q_0: ┤ H ├─░───────░────────■────────░─\n",
       "     ├───┤ ░       ░        │        ░ \n",
       "q_1: ┤ H ├─░───────░────────■────────░─\n",
       "     ├───┤ ░ ┌───┐ ░ ┌───┐┌─┴─┐┌───┐ ░ \n",
       "q_2: ┤ H ├─░─┤ X ├─░─┤ H ├┤ X ├┤ H ├─░─\n",
       "     └───┘ ░ └───┘ ░ └───┘└───┘└───┘ ░ "
      ]
     },
     "execution_count": 32,
     "metadata": {},
     "output_type": "execute_result"
    }
   ],
   "source": [
    "from qiskit.circuit.library.standard_gates import XGate\n",
    "import inspect\n",
    "\n",
    "# multi_cx_gate = XGate().control(num_qubits-1)\n",
    "# qc.append(multi_cx_gate, range(num_qubits))\n",
    "qc.draw()"
   ]
  },
  {
   "cell_type": "code",
   "execution_count": 33,
   "metadata": {},
   "outputs": [
    {
     "data": {
      "text/html": [
       "<pre style=\"word-wrap: normal;white-space: pre;background: #fff0;line-height: 1.1;font-family: &quot;Courier New&quot;,Courier,monospace\">     ┌───┐ ░       ░                 ░       ░ \n",
       "q_0: ┤ H ├─░───────░────────■────────░───────░─\n",
       "     ├───┤ ░       ░        │        ░       ░ \n",
       "q_1: ┤ H ├─░───────░────────■────────░───────░─\n",
       "     ├───┤ ░ ┌───┐ ░ ┌───┐┌─┴─┐┌───┐ ░ ┌───┐ ░ \n",
       "q_2: ┤ H ├─░─┤ X ├─░─┤ H ├┤ X ├┤ H ├─░─┤ X ├─░─\n",
       "     └───┘ ░ └───┘ ░ └───┘└───┘└───┘ ░ └───┘ ░ </pre>"
      ],
      "text/plain": [
       "     ┌───┐ ░       ░                 ░       ░ \n",
       "q_0: ┤ H ├─░───────░────────■────────░───────░─\n",
       "     ├───┤ ░       ░        │        ░       ░ \n",
       "q_1: ┤ H ├─░───────░────────■────────░───────░─\n",
       "     ├───┤ ░ ┌───┐ ░ ┌───┐┌─┴─┐┌───┐ ░ ┌───┐ ░ \n",
       "q_2: ┤ H ├─░─┤ X ├─░─┤ H ├┤ X ├┤ H ├─░─┤ X ├─░─\n",
       "     └───┘ ░ └───┘ ░ └───┘└───┘└───┘ ░ └───┘ ░ "
      ]
     },
     "execution_count": 33,
     "metadata": {},
     "output_type": "execute_result"
    }
   ],
   "source": [
    "# p435 (p456 PDF)\n",
    "\n",
    "# Reset the value after the oracle\n",
    "for idx in range(num_qubits):\n",
    "    if N[idx] == '0':\n",
    "        qc.x(idx)\n",
    "qc.barrier()\n",
    "\n",
    "# Draw the circuit\n",
    "qc.draw()\n"
   ]
  },
  {
   "cell_type": "code",
   "execution_count": 34,
   "metadata": {},
   "outputs": [
    {
     "data": {
      "text/html": [
       "<pre style=\"word-wrap: normal;white-space: pre;background: #fff0;line-height: 1.1;font-family: &quot;Courier New&quot;,Courier,monospace\">     ┌───┐ ░       ░                 ░       ░ ┌───┐┌───┐ ░ \n",
       "q_0: ┤ H ├─░───────░────────■────────░───────░─┤ H ├┤ X ├─░─\n",
       "     ├───┤ ░       ░        │        ░       ░ ├───┤├───┤ ░ \n",
       "q_1: ┤ H ├─░───────░────────■────────░───────░─┤ H ├┤ X ├─░─\n",
       "     ├───┤ ░ ┌───┐ ░ ┌───┐┌─┴─┐┌───┐ ░ ┌───┐ ░ ├───┤├───┤ ░ \n",
       "q_2: ┤ H ├─░─┤ X ├─░─┤ H ├┤ X ├┤ H ├─░─┤ X ├─░─┤ H ├┤ X ├─░─\n",
       "     └───┘ ░ └───┘ ░ └───┘└───┘└───┘ ░ └───┘ ░ └───┘└───┘ ░ </pre>"
      ],
      "text/plain": [
       "     ┌───┐ ░       ░                 ░       ░ ┌───┐┌───┐ ░ \n",
       "q_0: ┤ H ├─░───────░────────■────────░───────░─┤ H ├┤ X ├─░─\n",
       "     ├───┤ ░       ░        │        ░       ░ ├───┤├───┤ ░ \n",
       "q_1: ┤ H ├─░───────░────────■────────░───────░─┤ H ├┤ X ├─░─\n",
       "     ├───┤ ░ ┌───┐ ░ ┌───┐┌─┴─┐┌───┐ ░ ┌───┐ ░ ├───┤├───┤ ░ \n",
       "q_2: ┤ H ├─░─┤ X ├─░─┤ H ├┤ X ├┤ H ├─░─┤ X ├─░─┤ H ├┤ X ├─░─\n",
       "     └───┘ ░ └───┘ ░ └───┘└───┘└───┘ ░ └───┘ ░ └───┘└───┘ ░ "
      ]
     },
     "execution_count": 34,
     "metadata": {},
     "output_type": "execute_result"
    }
   ],
   "source": [
    "# p436 (p457 PDF)\n",
    "\n",
    "# Set all qubits in superposition\n",
    "qc.h(range(num_qubits))\n",
    "qc.x(range(num_qubits))\n",
    "qc.barrier()\n",
    "\n",
    "# Draw the circuit\n",
    "qc.draw()"
   ]
  },
  {
   "cell_type": "code",
   "execution_count": 35,
   "metadata": {},
   "outputs": [
    {
     "data": {
      "text/html": [
       "<pre style=\"word-wrap: normal;white-space: pre;background: #fff0;line-height: 1.1;font-family: &quot;Courier New&quot;,Courier,monospace\">     ┌───┐ ░       ░                 ░       ░ ┌───┐┌───┐ ░                 ░ \n",
       "q_0: ┤ H ├─░───────░────────■────────░───────░─┤ H ├┤ X ├─░────────■────────░─\n",
       "     ├───┤ ░       ░        │        ░       ░ ├───┤├───┤ ░        │        ░ \n",
       "q_1: ┤ H ├─░───────░────────■────────░───────░─┤ H ├┤ X ├─░────────■────────░─\n",
       "     ├───┤ ░ ┌───┐ ░ ┌───┐┌─┴─┐┌───┐ ░ ┌───┐ ░ ├───┤├───┤ ░ ┌───┐┌─┴─┐┌───┐ ░ \n",
       "q_2: ┤ H ├─░─┤ X ├─░─┤ H ├┤ X ├┤ H ├─░─┤ X ├─░─┤ H ├┤ X ├─░─┤ H ├┤ X ├┤ H ├─░─\n",
       "     └───┘ ░ └───┘ ░ └───┘└───┘└───┘ ░ └───┘ ░ └───┘└───┘ ░ └───┘└───┘└───┘ ░ </pre>"
      ],
      "text/plain": [
       "     ┌───┐ ░       ░                 ░       ░ ┌───┐┌───┐ ░                 ░ \n",
       "q_0: ┤ H ├─░───────░────────■────────░───────░─┤ H ├┤ X ├─░────────■────────░─\n",
       "     ├───┤ ░       ░        │        ░       ░ ├───┤├───┤ ░        │        ░ \n",
       "q_1: ┤ H ├─░───────░────────■────────░───────░─┤ H ├┤ X ├─░────────■────────░─\n",
       "     ├───┤ ░ ┌───┐ ░ ┌───┐┌─┴─┐┌───┐ ░ ┌───┐ ░ ├───┤├───┤ ░ ┌───┐┌─┴─┐┌───┐ ░ \n",
       "q_2: ┤ H ├─░─┤ X ├─░─┤ H ├┤ X ├┤ H ├─░─┤ X ├─░─┤ H ├┤ X ├─░─┤ H ├┤ X ├┤ H ├─░─\n",
       "     └───┘ ░ └───┘ ░ └───┘└───┘└───┘ ░ └───┘ ░ └───┘└───┘ ░ └───┘└───┘└───┘ ░ "
      ]
     },
     "execution_count": 35,
     "metadata": {},
     "output_type": "execute_result"
    }
   ],
   "source": [
    "# p436 (p457 PDF)\n",
    "\n",
    "# Apply another oracle, same as the previous, \n",
    "qc.h(num_qubits-1)\n",
    "# qc.ccx(0, 1, 2)\n",
    "qc.append(multi_cx_gate, range(num_qubits))\n",
    "qc.h(num_qubits-1)\n",
    "qc.barrier()\n",
    "\n",
    "# Draw the circuit\n",
    "qc.draw()"
   ]
  },
  {
   "cell_type": "code",
   "execution_count": 36,
   "metadata": {},
   "outputs": [
    {
     "data": {
      "text/html": [
       "<pre style=\"word-wrap: normal;white-space: pre;background: #fff0;line-height: 1.1;font-family: &quot;Courier New&quot;,Courier,monospace\">     ┌───┐ ░       ░                 ░       ░ ┌───┐┌───┐ ░                 ░ »\n",
       "q_0: ┤ H ├─░───────░────────■────────░───────░─┤ H ├┤ X ├─░────────■────────░─»\n",
       "     ├───┤ ░       ░        │        ░       ░ ├───┤├───┤ ░        │        ░ »\n",
       "q_1: ┤ H ├─░───────░────────■────────░───────░─┤ H ├┤ X ├─░────────■────────░─»\n",
       "     ├───┤ ░ ┌───┐ ░ ┌───┐┌─┴─┐┌───┐ ░ ┌───┐ ░ ├───┤├───┤ ░ ┌───┐┌─┴─┐┌───┐ ░ »\n",
       "q_2: ┤ H ├─░─┤ X ├─░─┤ H ├┤ X ├┤ H ├─░─┤ X ├─░─┤ H ├┤ X ├─░─┤ H ├┤ X ├┤ H ├─░─»\n",
       "     └───┘ ░ └───┘ ░ └───┘└───┘└───┘ ░ └───┘ ░ └───┘└───┘ ░ └───┘└───┘└───┘ ░ »\n",
       "«     ┌───┐ ░ ┌───┐\n",
       "«q_0: ┤ X ├─░─┤ H ├\n",
       "«     ├───┤ ░ ├───┤\n",
       "«q_1: ┤ X ├─░─┤ H ├\n",
       "«     ├───┤ ░ ├───┤\n",
       "«q_2: ┤ X ├─░─┤ H ├\n",
       "«     └───┘ ░ └───┘</pre>"
      ],
      "text/plain": [
       "     ┌───┐ ░       ░                 ░       ░ ┌───┐┌───┐ ░                 ░ »\n",
       "q_0: ┤ H ├─░───────░────────■────────░───────░─┤ H ├┤ X ├─░────────■────────░─»\n",
       "     ├───┤ ░       ░        │        ░       ░ ├───┤├───┤ ░        │        ░ »\n",
       "q_1: ┤ H ├─░───────░────────■────────░───────░─┤ H ├┤ X ├─░────────■────────░─»\n",
       "     ├───┤ ░ ┌───┐ ░ ┌───┐┌─┴─┐┌───┐ ░ ┌───┐ ░ ├───┤├───┤ ░ ┌───┐┌─┴─┐┌───┐ ░ »\n",
       "q_2: ┤ H ├─░─┤ X ├─░─┤ H ├┤ X ├┤ H ├─░─┤ X ├─░─┤ H ├┤ X ├─░─┤ H ├┤ X ├┤ H ├─░─»\n",
       "     └───┘ ░ └───┘ ░ └───┘└───┘└───┘ ░ └───┘ ░ └───┘└───┘ ░ └───┘└───┘└───┘ ░ »\n",
       "«     ┌───┐ ░ ┌───┐\n",
       "«q_0: ┤ X ├─░─┤ H ├\n",
       "«     ├───┤ ░ ├───┤\n",
       "«q_1: ┤ X ├─░─┤ H ├\n",
       "«     ├───┤ ░ ├───┤\n",
       "«q_2: ┤ X ├─░─┤ H ├\n",
       "«     └───┘ ░ └───┘"
      ]
     },
     "execution_count": 36,
     "metadata": {},
     "output_type": "execute_result"
    }
   ],
   "source": [
    "# p437 (p458 PDF)\n",
    "\n",
    "# Reapply the X rotations on all qubits\n",
    "qc.x(range(num_qubits))\n",
    "\n",
    "qc.barrier()\n",
    "\n",
    "# Reapply Hadamard gates to all qubits\n",
    "qc.h(range(num_qubits))\n",
    "\n",
    "# Draw the circuit\n",
    "qc.draw()"
   ]
  },
  {
   "cell_type": "code",
   "execution_count": 37,
   "metadata": {},
   "outputs": [
    {
     "data": {
      "image/png": "[encoded data removed]",
      "text/plain": [
       "<Figure size 1615.86x264.88 with 1 Axes>"
      ]
     },
     "metadata": {},
     "output_type": "display_data"
    }
   ],
   "source": [
    "# p437 (p458 PDF)\n",
    "\n",
    "# Add measurement operators\n",
    "qc.measure_all()\n",
    "\n",
    "# Draw the circuit\n",
    "qc.draw(\"mpl\").savefig(\"grover.jpg\")\n",
    "\n",
    "# Run on the qasm simulator\n",
    "backend = Aer.get_backend('qasm_simulator')\n",
    "# Execute the circuit on the backend\n",
    "job = execute(qc, backend, shots=1024)\n",
    "\n",
    "# Extract the results\n",
    "results = job.result()\n",
    "counts = results.get_counts(qc)"
   ]
  },
  {
   "cell_type": "code",
   "execution_count": 38,
   "metadata": {},
   "outputs": [
    {
     "name": "stdout",
     "output_type": "stream",
     "text": [
      "011: 779\n",
      "Initial string: 110\n",
      "Reverse initial string: 011\n"
     ]
    },
    {
     "data": {
      "image/png": "[encoded data removed]",
      "text/plain": [
       "<Figure size 504x360 with 1 Axes>"
      ]
     },
     "execution_count": 38,
     "metadata": {},
     "output_type": "execute_result"
    },
    {
     "data": {
      "image/png": "[encoded data removed]",
      "text/plain": [
       "<Figure size 504x360 with 1 Axes>"
      ]
     },
     "metadata": {
      "needs_background": "light"
     },
     "output_type": "display_data"
    }
   ],
   "source": [
    "# p438 (p459 PDF)\n",
    "\n",
    "# Run on the qasm simulator\n",
    "backend = Aer.get_backend('qasm_simulator')\n",
    "\n",
    "# Execute the circuit on the backend\n",
    "job = execute(qc, backend, shots=1024)\n",
    "\n",
    "# Extract the results\n",
    "results = job.result()\n",
    "counts = results.get_counts(qc)\n",
    "\n",
    "# Print and plot results\n",
    "# print(max(counts.values()))\n",
    "print(f\"{max(counts, key = counts.get)}: {max(counts.values())}\")\n",
    "print(f\"Initial string: {N}\")\n",
    "print(f\"Reverse initial string: {N[::-1]}\")\n",
    "plot_histogram(counts)"
   ]
  },
  {
   "cell_type": "code",
   "execution_count": 39,
   "metadata": {},
   "outputs": [
    {
     "ename": "NameError",
     "evalue": "name 'provider' is not defined",
     "output_type": "error",
     "traceback": [
      "\u001b[1;31m---------------------------------------------------------------------------\u001b[0m",
      "\u001b[1;31mNameError\u001b[0m                                 Traceback (most recent call last)",
      "\u001b[1;32m~\\AppData\\Local\\Temp\\ipykernel_7208\\710913191.py\u001b[0m in \u001b[0;36m<module>\u001b[1;34m\u001b[0m\n\u001b[0;32m      7\u001b[0m \u001b[1;31m#                                    not x.configuration().simulator and x.status().operational==True))\u001b[0m\u001b[1;33m\u001b[0m\u001b[1;33m\u001b[0m\u001b[1;33m\u001b[0m\u001b[0m\n\u001b[0;32m      8\u001b[0m \u001b[1;33m\u001b[0m\u001b[0m\n\u001b[1;32m----> 9\u001b[1;33m \u001b[0mbackend\u001b[0m \u001b[1;33m=\u001b[0m \u001b[0mprovider\u001b[0m\u001b[1;33m.\u001b[0m\u001b[0mget_backend\u001b[0m\u001b[1;33m(\u001b[0m\u001b[1;34m'ibm_brisbane'\u001b[0m\u001b[1;33m)\u001b[0m\u001b[1;33m\u001b[0m\u001b[1;33m\u001b[0m\u001b[0m\n\u001b[0m\u001b[0;32m     10\u001b[0m \u001b[0mprint\u001b[0m\u001b[1;33m(\u001b[0m\u001b[1;34m\"Set backend: \"\u001b[0m\u001b[1;33m,\u001b[0m \u001b[0mbackend\u001b[0m\u001b[1;33m)\u001b[0m\u001b[1;33m\u001b[0m\u001b[1;33m\u001b[0m\u001b[0m\n\u001b[0;32m     11\u001b[0m \u001b[1;33m\u001b[0m\u001b[0m\n",
      "\u001b[1;31mNameError\u001b[0m: name 'provider' is not defined"
     ]
    }
   ],
   "source": [
    "# p439 (p460 PDF)\n",
    "\n",
    "# Execute the circuit on the least busy quantum computer\n",
    "from qiskit.providers.ibmq import least_busy\n",
    "\n",
    "# backend = least_busy(provider.backends(filters=lambda x: x.configuration().n_qubits >= (num_qubits) and\n",
    "#                                    not x.configuration().simulator and x.status().operational==True))\n",
    "\n",
    "backend = provider.get_backend('ibm_brisbane')\n",
    "print(\"Set backend: \", backend)\n",
    "\n",
    "# Launch the job watcher widget\n",
    "# %qiskit_job_watcher"
   ]
  },
  {
   "cell_type": "code",
   "execution_count": null,
   "metadata": {},
   "outputs": [],
   "source": [
    "# p440 (p461 PDF)\n",
    "\n",
    "# Execute the circuit on the backend\n",
    "job = execute(qc, backend, shots=1024)\n",
    "\n",
    "# Extract the results\n",
    "results = job.result()\n",
    "counts = results.get_counts(qc)\n",
    "\n",
    "# Print and plot results\n",
    "print(counts)\n",
    "plot_histogram(counts)\n",
    "\n",
    "# still contains errors. Tried imb_osaka and ibm_brisbane"
   ]
  }
 ],
 "metadata": {
  "kernelspec": {
   "display_name": "quantum_oct23",
   "language": "python",
   "name": "python3"
  },
  "language_info": {
   "codemirror_mode": {
    "name": "ipython",
    "version": 3
   },
   "file_extension": ".py",
   "mimetype": "text/x-python",
   "name": "python",
   "nbconvert_exporter": "python",
   "pygments_lexer": "ipython3",
   "version": "3.7.8"
  }
 },
 "nbformat": 4,
 "nbformat_minor": 2
}
